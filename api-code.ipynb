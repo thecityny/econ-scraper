{
 "cells": [
  {
   "cell_type": "code",
   "execution_count": 42,
   "id": "bc9a4130",
   "metadata": {},
   "outputs": [],
   "source": [
    "import requests\n",
    "import json\n",
    "import prettytable\n",
    "import pandas as pd"
   ]
  },
  {
   "cell_type": "code",
   "execution_count": 43,
   "id": "749c26a1",
   "metadata": {},
   "outputs": [
    {
     "data": {
      "text/plain": [
       "['Consumer Price Index - Average Price Data',\n",
       " 'Business Employment Dynamics',\n",
       " 'Collective Bargaining Agreements-State and Local Government',\n",
       " 'Collective Bargaining Agreements-Private Sector',\n",
       " 'Employer Costs for Employee Compensation',\n",
       " 'Nonfatal cases involving days away from work: selected characteristics',\n",
       " 'Employment, Hours, and Earnings from the Current Employment Statistics survey (National)',\n",
       " 'Census of Fatal Occupational Injuries',\n",
       " 'Nonfatal cases involving days away from work: selected characteristics (2003 - 2010)',\n",
       " 'Employment Cost Index',\n",
       " 'Employer Costs for Employee Compensation',\n",
       " 'Nonfatal cases involving days away from work: selected characteristics (2011 forward)',\n",
       " 'Consumer Price Index - All Urban Consumers',\n",
       " 'Consumer Price Index - Urban Wage Earners and Clerical Workers',\n",
       " 'Consumer Expenditure Survey',\n",
       " 'Employee Benefits Survey',\n",
       " 'Employment Cost Index',\n",
       " 'National Employment, Hours, and Earnings',\n",
       " 'Import/Export Price Indexes',\n",
       " 'Quarterly Census of Employment and Wages',\n",
       " 'Employment Projections by Industry',\n",
       " 'Quarterly Census of Employment and Wages (SIC)',\n",
       " 'Census of Fatal Occupational Injuries (2003 - 2010)',\n",
       " 'Marital and family labor force statistics from the Current Population Survey',\n",
       " 'Census of Fatal Occupational Injuries (2011 forward)',\n",
       " 'Green Goods and Services',\n",
       " 'Geographic Profile',\n",
       " 'Nonfatal cases involving days away from work: Selected Characteristics (2002)',\n",
       " 'Occupational injuries and illnesses: industry data (pre-1989)',\n",
       " 'Occupational injuries and illnesses: industry data',\n",
       " 'International Labor Comparison',\n",
       " 'Industry Productivity',\n",
       " 'Occupational injuries and illnesses industry data',\n",
       " 'Job Openings and Labor Turnover Survey',\n",
       " 'Job Openings and Labor Turnover Survey',\n",
       " 'Local Area Unemployment Statistics',\n",
       " 'Weekly and hourly earnings data from the Current Population Survey',\n",
       " 'Labor Force Statistics from the Current Population Survey (SIC)',\n",
       " 'Consumer Price Index - Department Store Inventory Price Index',\n",
       " 'Labor Force Statistics from the Current Population Survey',\n",
       " 'Union affiliation data from the Current Population Survey',\n",
       " 'Mass Layoff Statistics',\n",
       " 'Major Sector Multifactor Productivity',\n",
       " 'Consumer Price Index - All Urban Consumers (Old Series)',\n",
       " 'Consumer Price Index - Urban Wage Earners and Clerical Workers (Old Series)',\n",
       " 'National Compensation Survey-Benefits',\n",
       " 'National Compensation Survey',\n",
       " 'Producer Price Index Industry Data',\n",
       " 'National Compensation Survey',\n",
       " 'Occupational Employment Statistics',\n",
       " 'Occupational Requirements',\n",
       " 'Producer Price Index Industry Data',\n",
       " 'Producer Price Index - Discontinued (SIC)',\n",
       " 'Federal Government Productivity Index',\n",
       " 'Industry Productivity Index',\n",
       " 'Major Sector Productivity and Costs',\n",
       " 'State and Area Employment, Hours, and Earnings (SIC)',\n",
       " 'Occupational injuries and illnesses: industry data (1989-2001)',\n",
       " 'Occupational injuries and illnesses: industry data (2002)',\n",
       " 'State and Area Employment, Hours, and Earnings',\n",
       " 'Consumer Price Index - Chained Consumer Price Index',\n",
       " 'American Time Use',\n",
       " 'Producer Price Index Commodity-Discontinued Series',\n",
       " 'Wage Modeling',\n",
       " 'Producer Price Index-Commodities',\n",
       " 'Work Stoppage Data']"
      ]
     },
     "execution_count": 43,
     "metadata": {},
     "output_type": "execute_result"
    }
   ],
   "source": [
    "headers = {'Content-type': 'application/json'}\n",
    "response = requests.post('https://api.bls.gov/publicAPI/v2/surveys', headers=headers)\n",
    "json_data = json.loads(response.text)\n",
    "surveys=pd.DataFrame(json_data['Results']['survey'])\n",
    "list(surveys.survey_name)"
   ]
  },
  {
   "cell_type": "code",
   "execution_count": 86,
   "id": "53559727",
   "metadata": {},
   "outputs": [
    {
     "data": {
      "text/plain": [
       "{'status': 'REQUEST_NOT_PROCESSED',\n",
       " 'responseTime': 0,\n",
       " 'message': ['Request could not be serviced, as the daily threshold for total number of requests allocated to the user has been reached.'],\n",
       " 'Results': {}}"
      ]
     },
     "execution_count": 86,
     "metadata": {},
     "output_type": "execute_result"
    }
   ],
   "source": [
    "headers = {'Content-type': 'application/json'}\n",
    "data = json.dumps({\"seriesid\": ['LAUCN281070000000003'],\"startyear\":\"2011\", \"endyear\":\"2023\"})\n",
    "p = requests.post('https://api.bls.gov/publicAPI/v2/timeseries/data/', data=data, headers=headers)\n",
    "json_data = json.loads(p.text)\n",
    "# for series in json_data['Results']:\n",
    "    \n",
    "#     print(series)\n",
    "#     x=prettytable.PrettyTable([\"series id\",\"year\",\"period\",\"value\",\"footnotes\"])\n",
    "#     seriesId = series['seriesID']\n",
    "#     for item in series['data']:\n",
    "#         year = item['year']\n",
    "#         period = item['period']\n",
    "#         value = item['value']\n",
    "#         footnotes=\"\"\n",
    "#         for footnote in item['footnotes']:\n",
    "#             if footnote:\n",
    "#                 footnotes = footnotes + footnote['text'] + ','\n",
    "#         if 'M01' <= period <= 'M12':\n",
    "#             x.add_row([seriesId,year,period,value,footnotes[0:-1]])\n",
    "#     output = open(seriesId + '.txt','w')\n",
    "#     output.write (x.get_string())\n",
    "#     output.close()\n",
    "\n",
    "json_data"
   ]
  },
  {
   "cell_type": "code",
   "execution_count": 84,
   "id": "e61112a5",
   "metadata": {},
   "outputs": [
    {
     "data": {
      "text/plain": [
       "{'status': 'REQUEST_NOT_PROCESSED',\n",
       " 'responseTime': 0,\n",
       " 'message': ['Request could not be serviced, as the daily threshold for total number of requests allocated to the user has been reached.'],\n",
       " 'Results': {}}"
      ]
     },
     "execution_count": 84,
     "metadata": {},
     "output_type": "execute_result"
    }
   ],
   "source": [
    "Series ID    LAUCN281070000000003\n",
    "\tPositions    Value            Field Name\n",
    "\t1-2          LA               Prefix\n",
    "\t3            U                Seasonal Adjustment Code\n",
    "\t4-18         CN2810700000000  Area Code\n",
    "\t19-20        03               Measure Code\n",
    "\t\n",
    "    \n",
    "\n",
    "\n"
   ]
  },
  {
   "cell_type": "code",
   "execution_count": null,
   "id": "22baeb8e",
   "metadata": {},
   "outputs": [],
   "source": []
  }
 ],
 "metadata": {
  "kernelspec": {
   "display_name": "Python 3",
   "language": "python",
   "name": "python3"
  },
  "language_info": {
   "codemirror_mode": {
    "name": "ipython",
    "version": 3
   },
   "file_extension": ".py",
   "mimetype": "text/x-python",
   "name": "python",
   "nbconvert_exporter": "python",
   "pygments_lexer": "ipython3",
   "version": "3.9.10"
  }
 },
 "nbformat": 4,
 "nbformat_minor": 5
}
