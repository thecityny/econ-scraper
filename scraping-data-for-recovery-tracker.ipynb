{
 "cells": [
  {
   "cell_type": "code",
   "execution_count": 1,
   "id": "25d48c38",
   "metadata": {},
   "outputs": [],
   "source": [
    "import requests\n",
    "import pandas as pd\n",
    "import numpy as np\n",
    "from urllib.request import urlopen, Request\n",
    "from urllib.parse import urlencode\n",
    "from selenium import webdriver\n",
    "from bs4 import BeautifulSoup\n",
    "from selenium.webdriver.common.by import By\n",
    "from selenium.webdriver.chrome.service import Service\n",
    "from selenium.webdriver.support.select import Select"
   ]
  },
  {
   "cell_type": "markdown",
   "id": "4f50345c",
   "metadata": {},
   "source": [
    "# Scraping jobs numbers"
   ]
  },
  {
   "cell_type": "code",
   "execution_count": 12,
   "id": "de1e5152",
   "metadata": {},
   "outputs": [],
   "source": [
    "# download excel file from the link in url\n",
    "url=\"https://dol.ny.gov/statistics-cessaxls\"\n",
    "r= requests.get(url, allow_redirects=True)\n",
    "open('data/raw_employment_data.xlsx', 'wb').write(r.content)\n",
    "# read the file\n",
    "df=pd.read_excel('data/raw_employment_data.xlsx', sheet_name='Metro Areas')\n",
    "# file out new York City data\n",
    "df=df[df.iloc[:,1] ==\"New York City\"].reset_index(drop=True)\n",
    "# create column names here\n",
    "column_names=['job_type','area','year', \"January\",\"February\",\"March\",\"April\",\"May\",\n",
    "\"June\",\"July\",\"August\",\"September\",\"October\",\"November\",\"December\"]\n",
    "# insert new columns names into the original dataset\n",
    "df.columns=column_names\n",
    "# filter out columns that aren't needed\n",
    "df=df[['year', \"January\",\"February\",\"March\",\"April\",\"May\",\"June\",\"July\",\"August\",\"September\",\n",
    "    \"October\",\"November\",\"December\"]]\n",
    "# flatten the data to. make it graphics ready\n",
    "df=df.melt(id_vars=['year'])\n",
    "# create a datetime column for viz purposes\n",
    "df['date']=pd.to_datetime(df.year.astype(str)+\"-\"+df.variable)\n",
    "# replace  commas from the value column so that we can convert it into a string later\n",
    "df=df.replace(\",\", \"\", regex=True)\n",
    "# rename value column\n",
    "df=df[['date','value' ]].rename(columns={'value':'jobs'})\n",
    "# flter to get all entries after Jan 2020\n",
    "df=df[df.date > \"2020-01-31\"].reset_index(drop=True)\n",
    "# remove empty columns\n",
    "df['jobs']=df.jobs.replace(\" \", np.nan).astype(float)\n",
    "# drop na values\n",
    "df=df[df.jobs.notna()].reset_index(drop=True)\n",
    "# multiple by 1000 to create original value\n",
    "df['jobs']=(df.jobs*1000).astype(int)\n",
    "# sort columbs by datetime\n",
    "df=df.sort_values('date').reset_index(drop=True)\n",
    "#create a job loss column from baseline: Feb 2020\n",
    "df['jobloss_from_feb2020']=(df['jobs']-4715100.0).astype(int)\n",
    "#save file in the data folder\n",
    "df['date']=df.date.astype(str)\n",
    "df.to_json('data/job_recovery.json', orient='records')\n",
    "df.to_csv('data/job_recovery.csv', index=False)"
   ]
  },
  {
   "cell_type": "markdown",
   "id": "1fed5607",
   "metadata": {},
   "source": [
    "# Jobs by sectors"
   ]
  },
  {
   "cell_type": "code",
   "execution_count": 74,
   "id": "9847a762",
   "metadata": {},
   "outputs": [
    {
     "name": "stderr",
     "output_type": "stream",
     "text": [
      "/var/folders/09/0pcf7rgs7c38nk2clfp7p_5w0000gq/T/ipykernel_20838/3013117398.py:8: DeprecationWarning: find_element_by_* commands are deprecated. Please use find_element() instead\n",
      "  dropdown = driver.find_element_by_id(\"codename\")\n"
     ]
    },
    {
     "name": "stdout",
     "output_type": "stream",
     "text": [
      "Successfully logged in\n"
     ]
    }
   ],
   "source": [
    "# s=Service('/Applications/chromedriver')\n",
    "# driver=webdriver.Chrome(service=s)\n",
    "\n",
    "# industry_url='https://statistics.labor.ny.gov/cesemp.asp'\n",
    "# driver.get(industry_url)\n",
    "\n",
    "# try:\n",
    "#     dropdown = driver.find_element_by_id(\"codename\")\n",
    "#     print('Successfully logged in')\n",
    "# except NoSuchElementException:\n",
    "#     print('Incorrect dropdown')\n",
    "    \n",
    "# nyc=Select(dropdown)\n",
    "# nyc_select=nyc.select_by_value(\"21093561\")\n",
    "# nyc_page=driver.find_element(\n",
    "#     by=By.XPATH, value=\n",
    "#     '//*[@id=\"ux-page\"]/div/div[3]/div[1]/div/form/div/fieldset/div/input').click()"
   ]
  },
  {
   "cell_type": "code",
   "execution_count": 11,
   "id": "4f673c12",
   "metadata": {},
   "outputs": [
    {
     "name": "stderr",
     "output_type": "stream",
     "text": [
      "/var/folders/09/0pcf7rgs7c38nk2clfp7p_5w0000gq/T/ipykernel_20838/1138229553.py:2: DeprecationWarning: find_elements_by_tag_name is deprecated. Please use find_elements(by=By.TAG_NAME, value=name) instead\n",
      "  total_elems=len(driver.find_elements_by_tag_name('tr'))\n"
     ]
    }
   ],
   "source": [
    "# industry_list=[]\n",
    "# total_elems=len(driver.find_elements_by_tag_name('tr'))\n",
    "# for tr in range(1,(total_elems+1)):\n",
    "#     industry_dict={}\n",
    "#     industry_dict['industry']=BeautifulSoup(driver.find_element(\n",
    "#             by=By.XPATH, value=f'//*[@id=\"ux-page\"]/div/div[2]/strong/table/tbody/tr[{tr}]/td[1]').text).text\n",
    "#     industry_dict['current_value']=BeautifulSoup(driver.find_element(\n",
    "#             by=By.XPATH, value=f'//*[@id=\"ux-page\"]/div/div[2]/strong/table/tbody/tr[{tr}]/td[2]').text).text\n",
    "#     industry_dict['comp_value']=BeautifulSoup(driver.find_element(\n",
    "#             by=By.XPATH, value=f'//*[@id=\"ux-page\"]/div/div[2]/strong/table/tbody/tr[{tr}]/td[3]').text).text\n",
    "#     industry_dict['net_change']=BeautifulSoup(driver.find_element(\n",
    "#             by=By.XPATH, value=f'//*[@id=\"ux-page\"]/div/div[2]/strong/table/tbody/tr[{tr}]/td[4]').text).text\n",
    "#     industry_dict['pct_change']=BeautifulSoup(driver.find_element(\n",
    "#             by=By.XPATH, value=f'//*[@id=\"ux-page\"]/div/div[2]/strong/table/tbody/tr[{tr}]/td[5]').text).text\n",
    "    \n",
    "#     industry_list.append(industry_dict)\n",
    "# ind_df=pd.DataFrame(industry_list)"
   ]
  },
  {
   "cell_type": "code",
   "execution_count": 12,
   "id": "ad4a1fd2",
   "metadata": {},
   "outputs": [],
   "source": [
    "# ind_df=ind_df.replace(\",\",\"\",regex=True).replace(\"%\",\"\",regex=True)"
   ]
  },
  {
   "cell_type": "code",
   "execution_count": 13,
   "id": "55e30342",
   "metadata": {},
   "outputs": [],
   "source": [
    "# ind_df['month']=ind_df.iloc[0][1].split()[0]"
   ]
  },
  {
   "cell_type": "code",
   "execution_count": 14,
   "id": "5aaf04e6",
   "metadata": {},
   "outputs": [],
   "source": [
    "# ind_df=ind_df[1:].reset_index(drop=True)"
   ]
  },
  {
   "cell_type": "code",
   "execution_count": 15,
   "id": "be657234",
   "metadata": {},
   "outputs": [],
   "source": [
    "# ind_df['current_value']=ind_df['current_value'].astype(float)*1000\n",
    "# ind_df['comp_value']=ind_df['comp_value'].astype(float)*1000\n",
    "# ind_df['net_change']=ind_df['net_change'].astype(float)*1000\n",
    "# ind_df['pct_change']=ind_df['pct_change'].astype(float)"
   ]
  },
  {
   "cell_type": "code",
   "execution_count": 16,
   "id": "2dbece34",
   "metadata": {},
   "outputs": [
    {
     "data": {
      "text/plain": [
       "'FEB'"
      ]
     },
     "execution_count": 16,
     "metadata": {},
     "output_type": "execute_result"
    }
   ],
   "source": [
    "# ind_df.month.iloc[0]"
   ]
  },
  {
   "cell_type": "code",
   "execution_count": 17,
   "id": "74bd40b9",
   "metadata": {},
   "outputs": [],
   "source": [
    "# ind_df.to_csv(f'data/{ind_df.month.iloc[0]}_industry_emp_master.csv', index=False)\n",
    "# ind_df.to_json(f'data/{ind_df.month.iloc[0]}_industry_emp_master.json', orient='records')"
   ]
  },
  {
   "cell_type": "markdown",
   "id": "bcb8d7d1",
   "metadata": {},
   "source": [
    "# Unemployment rates"
   ]
  },
  {
   "cell_type": "code",
   "execution_count": 7,
   "id": "708336c6",
   "metadata": {},
   "outputs": [
    {
     "name": "stderr",
     "output_type": "stream",
     "text": [
      "/var/folders/09/0pcf7rgs7c38nk2clfp7p_5w0000gq/T/ipykernel_4847/1072654595.py:16: FutureWarning: The default value of regex will change from True to False in a future version.\n",
      "  rate['nyc_rate']=rate.nyc_rate.str.replace(\n",
      "/var/folders/09/0pcf7rgs7c38nk2clfp7p_5w0000gq/T/ipykernel_4847/1072654595.py:16: FutureWarning: The default value of regex will change from True to False in a future version. In addition, single character regular expressions will *not* be treated as literal strings when regex=True.\n",
      "  rate['nyc_rate']=rate.nyc_rate.str.replace(\n"
     ]
    }
   ],
   "source": [
    "rate_url='https://www.bls.gov/regions/new-york-new-jersey/data/xg-tables/ro2xglausnyc.htm'\n",
    "response=requests.get(rate_url)\n",
    "doc=BeautifulSoup(response.text, 'html.parser')\n",
    "table=doc.find(\"table\", {\"id\": \"ro2xglausnyc4\"})\n",
    "\n",
    "ele_list=[]\n",
    "for ele in table.find('tbody').find_all('tr'):\n",
    "    for ele1 in ele.find_all('td'):\n",
    "        ele_dict={}\n",
    "        ele_dict['year']=ele.find('th').text.strip()\n",
    "        ele_dict['nyc_rate']=ele1.text.strip()\n",
    "        ele_list.append(ele_dict)\n",
    "rate=pd.DataFrame(ele_list)\n",
    "\n",
    "rate=rate[(rate.nyc_rate !=\"\")].reset_index(drop=True)\n",
    "rate['nyc_rate']=rate.nyc_rate.str.replace(\n",
    "    \"(r)\",\"\").str.replace(\"(p)\",\"\").str.replace(\"(\",\"\").str.replace(\")\",\"\")\n",
    "\n",
    "rate['date']=pd.Series(pd.period_range(\"1/1/2012\", freq=\"M\", periods=len(rate))).astype(str)\n",
    "rate['nyc_rate']=rate['nyc_rate'].astype(float)\n",
    "\n",
    "rate=rate[['date', 'nyc_rate']]\n",
    "\n",
    "national_unemp_url = \"https://data.bls.gov/timeseries/LNS14000000\"\n",
    "\n",
    "response=requests.get(national_unemp_url)\n",
    "doc=BeautifulSoup(response.text, 'html.parser')\n",
    "table=doc.find_all('table', {\"id\":\"table0\"})\n",
    "\n",
    "\n",
    "ele_list=[]\n",
    "\n",
    "for ele in table:\n",
    "    for ele1 in ele.find_all('tr'):  \n",
    "        for ele2 in ele1.find_all('td'):\n",
    "            ele_dict={}\n",
    "            ele_dict['year']=ele1.find('th').text.strip()\n",
    "            ele_dict['us_rate']=ele2.text.strip()\n",
    "            ele_list.append(ele_dict)            \n",
    "us_df=pd.DataFrame(ele_list)\n",
    "\n",
    "us_df=us_df[~(us_df.us_rate ==\"\")]\n",
    "us_df['us_rate']=us_df['us_rate'].astype(float)\n",
    "us_df['date']=pd.Series(pd.period_range(\"1/1/2012\", freq=\"M\", periods=len(us_df))).astype(str)\n",
    "us_df=us_df[['date', 'us_rate']]\n",
    "\n",
    "merged_jobless=pd.merge(rate,us_df)\n",
    "\n",
    "merged_jobless.to_json(\"data/unemployment_rate.json\", orient='records')\n",
    "merged_jobless.to_csv(\"data/unemployment_rate.csv\", index=False)"
   ]
  },
  {
   "cell_type": "code",
   "execution_count": 15,
   "id": "18f8db5a",
   "metadata": {},
   "outputs": [],
   "source": [
    "# ind_df.sort_values('pct_change', ascending=False).head(30)\n",
    "# https://dol.ny.gov/labor-statistics-new-york-city-region\n",
    "# https://dol.ny.gov/system/files/documents/2022/03/2021-significant-industries-new-york-city_0.pdf\n",
    "# https://data.bls.gov/timeseries/LNS14000000"
   ]
  },
  {
   "cell_type": "markdown",
   "id": "22c70ac8",
   "metadata": {},
   "source": [
    "# Some cleaning"
   ]
  },
  {
   "cell_type": "code",
   "execution_count": 86,
   "id": "1a2f9e8f",
   "metadata": {},
   "outputs": [],
   "source": [
    "significant_ind = [\n",
    "   'Mining, Logging and Construction','Couriers and messengers','Transportation and Warehousing',\n",
    "    'Information', 'Financial Activities','Professional, Scientific, and Technical Services',\n",
    "    'Administrative and Support Services','Educational Services','Ambulatory Health Care Services',\n",
    "    'Social Assistance','Food Services and Drinking Places'\n",
    "]"
   ]
  },
  {
   "cell_type": "code",
   "execution_count": 87,
   "id": "da5affa5",
   "metadata": {},
   "outputs": [],
   "source": [
    "# https://dol.ny.gov/system/files/documents/2022/03/2021-significant-industries-new-york-city_0.pdf"
   ]
  },
  {
   "cell_type": "code",
   "execution_count": 88,
   "id": "bfb3a174",
   "metadata": {},
   "outputs": [],
   "source": [
    "# download excel file from the link in url\n",
    "url=\"https://dol.ny.gov/statistics-new-york-city-employment-statistics\"\n",
    "r= requests.get(url, allow_redirects=True)\n",
    "open('data/raw_industry_data.xlsx', 'wb').write(r.content)\n",
    "# read the file\n",
    "df=pd.read_excel('data/raw_industry_data.xlsx', skiprows=1)"
   ]
  },
  {
   "cell_type": "code",
   "execution_count": 89,
   "id": "d7b4e8ee",
   "metadata": {},
   "outputs": [],
   "source": [
    "df=df[['AREA', 'YEAR', 'SERIESCODE', 'AREANAME', 'INDUSTRY_TITLE', 'JAN','FEB', 'MAR', 'APR', 'MAY', 'JUN', \n",
    "    'JUL', 'AUG', 'SEP', 'OCT', 'NOV','DEC']]"
   ]
  },
  {
   "cell_type": "code",
   "execution_count": 90,
   "id": "c051b9ab",
   "metadata": {},
   "outputs": [
    {
     "name": "stdout",
     "output_type": "stream",
     "text": [
      "<class 'pandas.core.frame.DataFrame'>\n",
      "RangeIndex: 3929 entries, 0 to 3928\n",
      "Data columns (total 17 columns):\n",
      " #   Column          Non-Null Count  Dtype  \n",
      "---  ------          --------------  -----  \n",
      " 0   AREA            3929 non-null   int64  \n",
      " 1   YEAR            3929 non-null   int64  \n",
      " 2   SERIESCODE      3929 non-null   int64  \n",
      " 3   AREANAME        3929 non-null   object \n",
      " 4   INDUSTRY_TITLE  3929 non-null   object \n",
      " 5   JAN             3929 non-null   float64\n",
      " 6   FEB             3929 non-null   float64\n",
      " 7   MAR             3805 non-null   float64\n",
      " 8   APR             3805 non-null   float64\n",
      " 9   MAY             3805 non-null   float64\n",
      " 10  JUN             3805 non-null   float64\n",
      " 11  JUL             3805 non-null   float64\n",
      " 12  AUG             3805 non-null   float64\n",
      " 13  SEP             3805 non-null   float64\n",
      " 14  OCT             3805 non-null   float64\n",
      " 15  NOV             3805 non-null   float64\n",
      " 16  DEC             3805 non-null   float64\n",
      "dtypes: float64(12), int64(3), object(2)\n",
      "memory usage: 521.9+ KB\n"
     ]
    }
   ],
   "source": [
    "df.info()"
   ]
  },
  {
   "cell_type": "code",
   "execution_count": 91,
   "id": "3ca3709b",
   "metadata": {},
   "outputs": [],
   "source": [
    "df2020=df[(df.YEAR == 2022)]"
   ]
  },
  {
   "cell_type": "code",
   "execution_count": 92,
   "id": "9793e529",
   "metadata": {},
   "outputs": [
    {
     "name": "stderr",
     "output_type": "stream",
     "text": [
      "/var/folders/09/0pcf7rgs7c38nk2clfp7p_5w0000gq/T/ipykernel_20838/3643508164.py:1: SettingWithCopyWarning: \n",
      "A value is trying to be set on a copy of a slice from a DataFrame.\n",
      "Try using .loc[row_indexer,col_indexer] = value instead\n",
      "\n",
      "See the caveats in the documentation: https://pandas.pydata.org/pandas-docs/stable/user_guide/indexing.html#returning-a-view-versus-a-copy\n",
      "  df2020['mom_change']=((df2020['FEB']- df2020['JAN'])*100/df2020['JAN']).round(1)\n"
     ]
    }
   ],
   "source": [
    "df2020['mom_change']=((df2020['FEB']- df2020['JAN'])*100/df2020['JAN']).round(1)"
   ]
  },
  {
   "cell_type": "code",
   "execution_count": 93,
   "id": "eda5b72c",
   "metadata": {},
   "outputs": [],
   "source": [
    "final_df=df2020[df2020.INDUSTRY_TITLE.isin(significant_ind)].reset_index(drop=True)"
   ]
  },
  {
   "cell_type": "code",
   "execution_count": 97,
   "id": "f6b834af",
   "metadata": {},
   "outputs": [],
   "source": [
    "final_df[[\"INDUSTRY_TITLE\",\"FEB\", 'mom_change']].to_json(\"data/sig_ind.json\", orient='records')"
   ]
  },
  {
   "cell_type": "code",
   "execution_count": 95,
   "id": "539c5b37",
   "metadata": {},
   "outputs": [
    {
     "data": {
      "text/plain": [
       "0.6654347879292201"
      ]
     },
     "execution_count": 95,
     "metadata": {},
     "output_type": "execute_result"
    }
   ],
   "source": [
    "final_df.FEB.sum()/4085.9"
   ]
  },
  {
   "cell_type": "code",
   "execution_count": 96,
   "id": "5484957a",
   "metadata": {},
   "outputs": [
    {
     "data": {
      "text/html": [
       "<div>\n",
       "<style scoped>\n",
       "    .dataframe tbody tr th:only-of-type {\n",
       "        vertical-align: middle;\n",
       "    }\n",
       "\n",
       "    .dataframe tbody tr th {\n",
       "        vertical-align: top;\n",
       "    }\n",
       "\n",
       "    .dataframe thead th {\n",
       "        text-align: right;\n",
       "    }\n",
       "</style>\n",
       "<table border=\"1\" class=\"dataframe\">\n",
       "  <thead>\n",
       "    <tr style=\"text-align: right;\">\n",
       "      <th></th>\n",
       "      <th>AREA</th>\n",
       "      <th>YEAR</th>\n",
       "      <th>SERIESCODE</th>\n",
       "      <th>AREANAME</th>\n",
       "      <th>INDUSTRY_TITLE</th>\n",
       "      <th>JAN</th>\n",
       "      <th>FEB</th>\n",
       "      <th>MAR</th>\n",
       "      <th>APR</th>\n",
       "      <th>MAY</th>\n",
       "      <th>JUN</th>\n",
       "      <th>JUL</th>\n",
       "      <th>AUG</th>\n",
       "      <th>SEP</th>\n",
       "      <th>OCT</th>\n",
       "      <th>NOV</th>\n",
       "      <th>DEC</th>\n",
       "      <th>mom_change</th>\n",
       "    </tr>\n",
       "  </thead>\n",
       "  <tbody>\n",
       "    <tr>\n",
       "      <th>0</th>\n",
       "      <td>93561</td>\n",
       "      <td>2022</td>\n",
       "      <td>15000000</td>\n",
       "      <td>New York City</td>\n",
       "      <td>Mining, Logging and Construction</td>\n",
       "      <td>130.4</td>\n",
       "      <td>132.4</td>\n",
       "      <td>NaN</td>\n",
       "      <td>NaN</td>\n",
       "      <td>NaN</td>\n",
       "      <td>NaN</td>\n",
       "      <td>NaN</td>\n",
       "      <td>NaN</td>\n",
       "      <td>NaN</td>\n",
       "      <td>NaN</td>\n",
       "      <td>NaN</td>\n",
       "      <td>NaN</td>\n",
       "      <td>1.5</td>\n",
       "    </tr>\n",
       "    <tr>\n",
       "      <th>1</th>\n",
       "      <td>93561</td>\n",
       "      <td>2022</td>\n",
       "      <td>43400089</td>\n",
       "      <td>New York City</td>\n",
       "      <td>Transportation and Warehousing</td>\n",
       "      <td>130.2</td>\n",
       "      <td>128.3</td>\n",
       "      <td>NaN</td>\n",
       "      <td>NaN</td>\n",
       "      <td>NaN</td>\n",
       "      <td>NaN</td>\n",
       "      <td>NaN</td>\n",
       "      <td>NaN</td>\n",
       "      <td>NaN</td>\n",
       "      <td>NaN</td>\n",
       "      <td>NaN</td>\n",
       "      <td>NaN</td>\n",
       "      <td>-1.5</td>\n",
       "    </tr>\n",
       "    <tr>\n",
       "      <th>2</th>\n",
       "      <td>93561</td>\n",
       "      <td>2022</td>\n",
       "      <td>50000000</td>\n",
       "      <td>New York City</td>\n",
       "      <td>Information</td>\n",
       "      <td>230.5</td>\n",
       "      <td>232.8</td>\n",
       "      <td>NaN</td>\n",
       "      <td>NaN</td>\n",
       "      <td>NaN</td>\n",
       "      <td>NaN</td>\n",
       "      <td>NaN</td>\n",
       "      <td>NaN</td>\n",
       "      <td>NaN</td>\n",
       "      <td>NaN</td>\n",
       "      <td>NaN</td>\n",
       "      <td>NaN</td>\n",
       "      <td>1.0</td>\n",
       "    </tr>\n",
       "    <tr>\n",
       "      <th>3</th>\n",
       "      <td>93561</td>\n",
       "      <td>2022</td>\n",
       "      <td>55000000</td>\n",
       "      <td>New York City</td>\n",
       "      <td>Financial Activities</td>\n",
       "      <td>458.8</td>\n",
       "      <td>463.7</td>\n",
       "      <td>NaN</td>\n",
       "      <td>NaN</td>\n",
       "      <td>NaN</td>\n",
       "      <td>NaN</td>\n",
       "      <td>NaN</td>\n",
       "      <td>NaN</td>\n",
       "      <td>NaN</td>\n",
       "      <td>NaN</td>\n",
       "      <td>NaN</td>\n",
       "      <td>NaN</td>\n",
       "      <td>1.1</td>\n",
       "    </tr>\n",
       "    <tr>\n",
       "      <th>4</th>\n",
       "      <td>93561</td>\n",
       "      <td>2022</td>\n",
       "      <td>60540000</td>\n",
       "      <td>New York City</td>\n",
       "      <td>Professional, Scientific, and Technical Services</td>\n",
       "      <td>435.4</td>\n",
       "      <td>442.4</td>\n",
       "      <td>NaN</td>\n",
       "      <td>NaN</td>\n",
       "      <td>NaN</td>\n",
       "      <td>NaN</td>\n",
       "      <td>NaN</td>\n",
       "      <td>NaN</td>\n",
       "      <td>NaN</td>\n",
       "      <td>NaN</td>\n",
       "      <td>NaN</td>\n",
       "      <td>NaN</td>\n",
       "      <td>1.6</td>\n",
       "    </tr>\n",
       "    <tr>\n",
       "      <th>5</th>\n",
       "      <td>93561</td>\n",
       "      <td>2022</td>\n",
       "      <td>60561000</td>\n",
       "      <td>New York City</td>\n",
       "      <td>Administrative and Support Services</td>\n",
       "      <td>237.7</td>\n",
       "      <td>240.8</td>\n",
       "      <td>NaN</td>\n",
       "      <td>NaN</td>\n",
       "      <td>NaN</td>\n",
       "      <td>NaN</td>\n",
       "      <td>NaN</td>\n",
       "      <td>NaN</td>\n",
       "      <td>NaN</td>\n",
       "      <td>NaN</td>\n",
       "      <td>NaN</td>\n",
       "      <td>NaN</td>\n",
       "      <td>1.3</td>\n",
       "    </tr>\n",
       "    <tr>\n",
       "      <th>6</th>\n",
       "      <td>93561</td>\n",
       "      <td>2022</td>\n",
       "      <td>65610000</td>\n",
       "      <td>New York City</td>\n",
       "      <td>Educational Services</td>\n",
       "      <td>236.7</td>\n",
       "      <td>246.0</td>\n",
       "      <td>NaN</td>\n",
       "      <td>NaN</td>\n",
       "      <td>NaN</td>\n",
       "      <td>NaN</td>\n",
       "      <td>NaN</td>\n",
       "      <td>NaN</td>\n",
       "      <td>NaN</td>\n",
       "      <td>NaN</td>\n",
       "      <td>NaN</td>\n",
       "      <td>NaN</td>\n",
       "      <td>3.9</td>\n",
       "    </tr>\n",
       "    <tr>\n",
       "      <th>7</th>\n",
       "      <td>93561</td>\n",
       "      <td>2022</td>\n",
       "      <td>65621000</td>\n",
       "      <td>New York City</td>\n",
       "      <td>Ambulatory Health Care Services</td>\n",
       "      <td>358.8</td>\n",
       "      <td>365.9</td>\n",
       "      <td>NaN</td>\n",
       "      <td>NaN</td>\n",
       "      <td>NaN</td>\n",
       "      <td>NaN</td>\n",
       "      <td>NaN</td>\n",
       "      <td>NaN</td>\n",
       "      <td>NaN</td>\n",
       "      <td>NaN</td>\n",
       "      <td>NaN</td>\n",
       "      <td>NaN</td>\n",
       "      <td>2.0</td>\n",
       "    </tr>\n",
       "    <tr>\n",
       "      <th>8</th>\n",
       "      <td>93561</td>\n",
       "      <td>2022</td>\n",
       "      <td>65624000</td>\n",
       "      <td>New York City</td>\n",
       "      <td>Social Assistance</td>\n",
       "      <td>214.4</td>\n",
       "      <td>216.7</td>\n",
       "      <td>NaN</td>\n",
       "      <td>NaN</td>\n",
       "      <td>NaN</td>\n",
       "      <td>NaN</td>\n",
       "      <td>NaN</td>\n",
       "      <td>NaN</td>\n",
       "      <td>NaN</td>\n",
       "      <td>NaN</td>\n",
       "      <td>NaN</td>\n",
       "      <td>NaN</td>\n",
       "      <td>1.1</td>\n",
       "    </tr>\n",
       "    <tr>\n",
       "      <th>9</th>\n",
       "      <td>93561</td>\n",
       "      <td>2022</td>\n",
       "      <td>70722000</td>\n",
       "      <td>New York City</td>\n",
       "      <td>Food Services and Drinking Places</td>\n",
       "      <td>248.0</td>\n",
       "      <td>249.9</td>\n",
       "      <td>NaN</td>\n",
       "      <td>NaN</td>\n",
       "      <td>NaN</td>\n",
       "      <td>NaN</td>\n",
       "      <td>NaN</td>\n",
       "      <td>NaN</td>\n",
       "      <td>NaN</td>\n",
       "      <td>NaN</td>\n",
       "      <td>NaN</td>\n",
       "      <td>NaN</td>\n",
       "      <td>0.8</td>\n",
       "    </tr>\n",
       "  </tbody>\n",
       "</table>\n",
       "</div>"
      ],
      "text/plain": [
       "    AREA  YEAR  SERIESCODE       AREANAME  \\\n",
       "0  93561  2022    15000000  New York City   \n",
       "1  93561  2022    43400089  New York City   \n",
       "2  93561  2022    50000000  New York City   \n",
       "3  93561  2022    55000000  New York City   \n",
       "4  93561  2022    60540000  New York City   \n",
       "5  93561  2022    60561000  New York City   \n",
       "6  93561  2022    65610000  New York City   \n",
       "7  93561  2022    65621000  New York City   \n",
       "8  93561  2022    65624000  New York City   \n",
       "9  93561  2022    70722000  New York City   \n",
       "\n",
       "                                     INDUSTRY_TITLE    JAN    FEB  MAR  APR  \\\n",
       "0                  Mining, Logging and Construction  130.4  132.4  NaN  NaN   \n",
       "1                    Transportation and Warehousing  130.2  128.3  NaN  NaN   \n",
       "2                                       Information  230.5  232.8  NaN  NaN   \n",
       "3                              Financial Activities  458.8  463.7  NaN  NaN   \n",
       "4  Professional, Scientific, and Technical Services  435.4  442.4  NaN  NaN   \n",
       "5               Administrative and Support Services  237.7  240.8  NaN  NaN   \n",
       "6                              Educational Services  236.7  246.0  NaN  NaN   \n",
       "7                   Ambulatory Health Care Services  358.8  365.9  NaN  NaN   \n",
       "8                                 Social Assistance  214.4  216.7  NaN  NaN   \n",
       "9                 Food Services and Drinking Places  248.0  249.9  NaN  NaN   \n",
       "\n",
       "   MAY  JUN  JUL  AUG  SEP  OCT  NOV  DEC  mom_change  \n",
       "0  NaN  NaN  NaN  NaN  NaN  NaN  NaN  NaN         1.5  \n",
       "1  NaN  NaN  NaN  NaN  NaN  NaN  NaN  NaN        -1.5  \n",
       "2  NaN  NaN  NaN  NaN  NaN  NaN  NaN  NaN         1.0  \n",
       "3  NaN  NaN  NaN  NaN  NaN  NaN  NaN  NaN         1.1  \n",
       "4  NaN  NaN  NaN  NaN  NaN  NaN  NaN  NaN         1.6  \n",
       "5  NaN  NaN  NaN  NaN  NaN  NaN  NaN  NaN         1.3  \n",
       "6  NaN  NaN  NaN  NaN  NaN  NaN  NaN  NaN         3.9  \n",
       "7  NaN  NaN  NaN  NaN  NaN  NaN  NaN  NaN         2.0  \n",
       "8  NaN  NaN  NaN  NaN  NaN  NaN  NaN  NaN         1.1  \n",
       "9  NaN  NaN  NaN  NaN  NaN  NaN  NaN  NaN         0.8  "
      ]
     },
     "execution_count": 96,
     "metadata": {},
     "output_type": "execute_result"
    }
   ],
   "source": [
    "final_df[['']]"
   ]
  },
  {
   "cell_type": "code",
   "execution_count": null,
   "id": "98a5603c",
   "metadata": {},
   "outputs": [],
   "source": []
  }
 ],
 "metadata": {
  "kernelspec": {
   "display_name": "Python 3",
   "language": "python",
   "name": "python3"
  },
  "language_info": {
   "codemirror_mode": {
    "name": "ipython",
    "version": 3
   },
   "file_extension": ".py",
   "mimetype": "text/x-python",
   "name": "python",
   "nbconvert_exporter": "python",
   "pygments_lexer": "ipython3",
   "version": "3.9.10"
  }
 },
 "nbformat": 4,
 "nbformat_minor": 5
}
